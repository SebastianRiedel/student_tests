{
 "cells": [
  {
   "cell_type": "code",
   "execution_count": null,
   "metadata": {
    "collapsed": false
   },
   "outputs": [],
   "source": [
    "%matplotlib inline\n",
    "import pickle\n",
    "import numpy as np\n",
    "import matplotlib.pyplot as plt\n",
    "with open('./mnist_2000_20.pkl', 'r') as f:\n",
    "    images_train, labels_train, images_test, labels_test = pickle.load(f)\n",
    "print \"\"\"\n",
    ">>>>>>>>>>>>>>>>>>>>>>>>>>>>\n",
    "Introduction:\n",
    "\n",
    "MNIST is a dataset containing small images (28x28 pixels) of handwritten digits. Each image shows\n",
    "one digit in the range 0 to 9. Above function calls load a small subset of the MNIST dataset as training\n",
    "and test data for you to implement a simple nearest neighbour classification algorithm. The loaded data\n",
    "has the following datatypes and sizes.\n",
    "\"\"\""
   ]
  },
  {
   "cell_type": "code",
   "execution_count": null,
   "metadata": {
    "collapsed": false
   },
   "outputs": [],
   "source": [
    "print \"Number training examples: \", len(images_train), \"(same as number of labels\", len(labels_train), \")\"\n",
    "print \"Number test examples: \", len(images_test), \"(same as number of ground truth labels\", len(labels_test), \")\"\n",
    "print \"A single images is a 28 x 28 = 786 vector of integers:\", len(images_train[0])\n",
    "print \"A label is an integer between 0 and 9, e.g. labels_train[0]:\", labels_train[0]\n",
    "print \"We can also show the corresponding image using matplotlib, e.g. images_train[0]:\"\n",
    "plt.imshow(np.array(images_train[0]).reshape(28,28), cmap='gray')"
   ]
  },
  {
   "cell_type": "code",
   "execution_count": null,
   "metadata": {
    "collapsed": false
   },
   "outputs": [],
   "source": [
    "print \"\"\"\n",
    ">>>>>>>>>>>>>>>>>>>>>>>>>>>>\n",
    "Task 1: Compute and plot what the average hand-written \"5\" in the training data looks like\n",
    "\"\"\"\n",
    "print \"YOUR CODE HERE\""
   ]
  },
  {
   "cell_type": "code",
   "execution_count": null,
   "metadata": {
    "collapsed": false
   },
   "outputs": [],
   "source": [
    "print \"\"\"\n",
    ">>>>>>>>>>>>>>>>>>>>>>>>>>>>\n",
    "Task 2.1: Write a simple 1-nearest-neighbour classifier routine based on the L2-Norm (regular \n",
    "          eucledian norm). Compute and print your predictions of the labels of all 20 test \n",
    "          images given the 2000 training images.\n",
    "\"\"\"\n",
    "print \"YOUR CODE HERE\"\n",
    "\n",
    "print \"\"\"\n",
    ">>>>>>>>>>>>>>>>>>>>>>>>>>>>\n",
    "Task 2.2: Compute your average prediction accuracy with respect to the ground-truth labels in labels_test\n",
    "\"\"\"\n",
    "print \"YOUR CODE HERE\""
   ]
  }
 ],
 "metadata": {
  "kernelspec": {
   "display_name": "Python 2",
   "language": "python",
   "name": "python2"
  },
  "language_info": {
   "codemirror_mode": {
    "name": "ipython",
    "version": 2
   },
   "file_extension": ".py",
   "mimetype": "text/x-python",
   "name": "python",
   "nbconvert_exporter": "python",
   "pygments_lexer": "ipython2",
   "version": "2.7.9"
  }
 },
 "nbformat": 4,
 "nbformat_minor": 0
}
