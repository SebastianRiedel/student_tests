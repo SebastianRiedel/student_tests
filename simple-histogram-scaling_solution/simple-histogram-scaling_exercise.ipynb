{
 "cells": [
  {
   "cell_type": "code",
   "execution_count": null,
   "metadata": {
    "collapsed": false
   },
   "outputs": [],
   "source": [
    "%matplotlib inline\n",
    "\n",
    "from PIL import Image\n",
    "import matplotlib.pyplot as plt\n",
    "import numpy as np\n",
    "import os\n",
    "\n",
    "filename = os.path.join(os.getcwd(), 'crawler.png')\n",
    "print \"Loading image from:\", filename\n",
    "image = Image.open(filename)\n",
    "image.load()\n",
    "image_data = np.ascontiguousarray(np.array(image.getdata(), dtype=np.uint8)[:,0]).reshape(450,800)\n",
    "\n",
    "print\n",
    "print \">>>>>>>>>>>>>>>>>>>>>>>>>>>>>>>>>>>>>\"\n",
    "print \"Introduction:\"\n",
    "print\n",
    "print \"The variable image_data holds a greyscale image with a height of\", image_data.shape[0], \"pixels (matrix rows) and width of\", image_data.shape[1], \"pixels (matrix columns).\"\n",
    "print\n",
    "print \"The datatype of the image is: image_data.type:\", image_data.dtype\n",
    "print\n",
    "print \"It is a picture of our DLR Crawler, but unfortunately a bit dark if you ask me... let's see what we can do about that.\"\n",
    "plt.imshow(image_data, cmap='gray', vmin=0, vmax=255)"
   ]
  },
  {
   "cell_type": "code",
   "execution_count": null,
   "metadata": {
    "collapsed": false
   },
   "outputs": [],
   "source": [
    "print \">>>>>>>>>>>>>>>>>>>>>>>>>>>>>>>>>>>>>\"\n",
    "print \"Task 1.1: what is the minium and maximum brightness value in the image\"\n",
    "print \"YOUR CODE HERE\"\n",
    "\n",
    "print \">>>>>>>>>>>>>>>>>>>>>>>>>>>>>>>>>>>>>\"\n",
    "print \"Task 1.2: what is the absolute minimum and maximum brightness value a pixel could have?\"\n",
    "print \"YOUR CODE HERE\"\n",
    "\n",
    "print \">>>>>>>>>>>>>>>>>>>>>>>>>>>>>>>>>>>>>\"\n",
    "print \"Task 1.3: visualize the histogram over brightness values in the image\"\n",
    "print \"YOUR CODE HERE\""
   ]
  },
  {
   "cell_type": "code",
   "execution_count": null,
   "metadata": {
    "collapsed": false
   },
   "outputs": [],
   "source": [
    "print \">>>>>>>>>>>>>>>>>>>>>>>>>>>>>>>>>>>>>\"\n",
    "print \"Task 2.1: Make the image brighter by linearly scaling the histogram over the whole brightness range.\"\n",
    "print \"          Plot the image, like above in the introduction.\"\n",
    "print \"YOUR CODE HERE\"\n"
   ]
  },
  {
   "cell_type": "code",
   "execution_count": null,
   "metadata": {
    "collapsed": false
   },
   "outputs": [],
   "source": [
    "print \">>>>>>>>>>>>>>>>>>>>>>>>>>>>>>>>>>>>>\"\n",
    "print \"Task 2.2: Plot the scaled image's brightness histogram.\"\n",
    "print \"YOUR CODE HERE\""
   ]
  }
 ],
 "metadata": {
  "kernelspec": {
   "display_name": "Python 2",
   "language": "python",
   "name": "python2"
  },
  "language_info": {
   "codemirror_mode": {
    "name": "ipython",
    "version": 2
   },
   "file_extension": ".py",
   "mimetype": "text/x-python",
   "name": "python",
   "nbconvert_exporter": "python",
   "pygments_lexer": "ipython2",
   "version": "2.7.9"
  }
 },
 "nbformat": 4,
 "nbformat_minor": 0
}
